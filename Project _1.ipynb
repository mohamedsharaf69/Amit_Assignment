{
 "cells": [
  {
   "cell_type": "markdown",
   "metadata": {},
   "source": [
    "# Project 2\n",
    "\n",
    "## By using what we've learned about oop create a banking system program \n",
    "\n",
    "\n",
    "### Parent class : holds user account info and show the user details \n",
    "\n",
    "\n",
    "### Child class : about bank and holds the balance and can  can make deposits , withdraw and show the final balance  functions  .....\n"
   ]
  },
  {
   "cell_type": "code",
   "execution_count": 2,
   "metadata": {},
   "outputs": [
    {
     "name": "stdout",
     "output_type": "stream",
     "text": [
      "Welcome to Arab Bank!\n",
      "Enter name Mohamed\n",
      "Enter age 21\n",
      "Enter Gender Male\n",
      "Enter national id 21529\n",
      "Enter phone number 021511851220\n",
      "Hello Mohamed !\n",
      "Enter d if you want to deposit or w if you want to withdraw or b if you want to know your balanced\n",
      "How much would you like to deposit? 1000\n",
      "Your new balance is 2000.0\n",
      "Do you want another operation?(y or n)y\n",
      "Enter d if you want to deposit or w if you want to withdraw or b if you want to know your balancew\n",
      "How much would you like to withdraw? 450\n",
      "Your new balance is 1550.0\n",
      "Do you want another operation?(y or n)n\n",
      "Thank you for using Arab Bank!\n"
     ]
    }
   ],
   "source": [
    "#user class\n",
    "class user:\n",
    "    account_number = 0\n",
    "    def __init__(self, name, age, gender, nat_id, phone_num):\n",
    "        self.name = name\n",
    "        self.age = age\n",
    "        self.gender = gender\n",
    "        self.nat_id = nat_id\n",
    "        self.phone_num = phone_num\n",
    "        self.account_number +=1\n",
    "        \n",
    "    #function that prints all user info\n",
    "    def info(self):\n",
    "        print(self.name,self.age,self.gender,self.account_number,self.nat_id,self.phone_num)\n",
    "        \n",
    "    def accountnumber(self):\n",
    "        return self.account_number\n",
    "        \n",
    "#bank class\n",
    "class bank(user):\n",
    "    balance = 1000\n",
    "    def __init__(self,name, age, gender, nat_id, phone_num,account_number):\n",
    "        super().__init__(name, age, gender, nat_id, phone_num)\n",
    "    #function to deposit money into account\n",
    "    def deposit(self,money_add):\n",
    "        self.balance += float(money_add)\n",
    "        print(\"Your new balance is {}\".format(self.balance))\n",
    "    #function to show balance of user\n",
    "    def show_balance(self):\n",
    "        print(\"Your balance is {}\".format(self.balance))\n",
    "    #function to withdraw from account\n",
    "    def withdraw(self,money_with):\n",
    "        self.balance -= float(money_with)\n",
    "        print(\"Your new balance is {}\".format(self.balance))\n",
    "        \n",
    "        \n",
    "        \n",
    "\n",
    "print(\"Welcome to Mohamed Bank!\")\n",
    "name = input(\"Enter name \")\n",
    "age = input(\"Enter age \")\n",
    "gender = input(\"Enter Gender \")\n",
    "nat_id = input(\"Enter national id \")\n",
    "phone_num = input(\"Enter phone number \")\n",
    "u = user(name,age,gender,nat_id,phone_num)\n",
    "account = u.accountnumber()\n",
    "u1 = bank(name,age,gender,nat_id,phone_num,account)\n",
    "print(\"Hello {} !\".format(name))\n",
    "while True:\n",
    "    response = input(\"Enter d if you want to deposit or w if you want to withdraw or b if you want to know your balance\")\n",
    "    if response == 'd':\n",
    "        dep = input(\"How much would you like to deposit? \")\n",
    "        u1.deposit(dep)\n",
    "    elif response == 'w':\n",
    "        withdraw = input(\"How much would you like to withdraw? \")\n",
    "        u1.withdraw(withdraw)\n",
    "    elif response == 'b':\n",
    "        u1.show_balance()\n",
    "        \n",
    "    another = input(\"Do you want another operation?(y or n)\")\n",
    "    if another =='y':\n",
    "        continue\n",
    "    elif another == 'n':\n",
    "        print(\"Thank you for using Mohamed Bank!\")\n",
    "        break"
   ]
  },
  {
   "cell_type": "code",
   "execution_count": null,
   "metadata": {},
   "outputs": [],
   "source": []
  }
 ],
 "metadata": {
  "kernelspec": {
   "display_name": "Python 3",
   "language": "python",
   "name": "python3"
  },
  "language_info": {
   "codemirror_mode": {
    "name": "ipython",
    "version": 3
   },
   "file_extension": ".py",
   "mimetype": "text/x-python",
   "name": "python",
   "nbconvert_exporter": "python",
   "pygments_lexer": "ipython3",
   "version": "3.8.5"
  }
 },
 "nbformat": 4,
 "nbformat_minor": 5
}
