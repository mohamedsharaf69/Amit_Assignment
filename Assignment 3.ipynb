{
 "cells": [
  {
   "cell_type": "markdown",
   "metadata": {},
   "source": [
    "# Assignment 3"
   ]
  },
  {
   "cell_type": "markdown",
   "metadata": {},
   "source": [
    "### Write a function to count the number 4 in a given list."
   ]
  },
  {
   "cell_type": "code",
   "execution_count": 1,
   "metadata": {},
   "outputs": [
    {
     "name": "stdout",
     "output_type": "stream",
     "text": [
      "4\n"
     ]
    }
   ],
   "source": [
    "def count(l):\n",
    "    counter = 0\n",
    "    for i in range(len(l)):\n",
    "        if l[i]==4:\n",
    "            counter += 1\n",
    "    return counter\n",
    "\n",
    "li = [1,5,9,4,2,6,4,8,5,7,4,2,6,4,1,2]\n",
    "counter = count(li)\n",
    "print(counter)"
   ]
  },
  {
   "cell_type": "markdown",
   "metadata": {},
   "source": [
    "### write a  function to check whether a number is divisible by another number."
   ]
  },
  {
   "cell_type": "code",
   "execution_count": 5,
   "metadata": {},
   "outputs": [
    {
     "name": "stdout",
     "output_type": "stream",
     "text": [
      "True\n"
     ]
    }
   ],
   "source": [
    "def divisible(n):\n",
    "    for i in range(2,11):\n",
    "        if n%i==0:\n",
    "            return True\n",
    "        else:\n",
    "            return False\n",
    "            \n",
    "\n",
    "\n",
    "print(divisible(6))"
   ]
  },
  {
   "cell_type": "markdown",
   "metadata": {},
   "source": [
    "### write a function to find the maximum and minimum numbers from a sequence of numbers."
   ]
  },
  {
   "cell_type": "code",
   "execution_count": 6,
   "metadata": {},
   "outputs": [
    {
     "name": "stdout",
     "output_type": "stream",
     "text": [
      "(65, 1)\n"
     ]
    }
   ],
   "source": [
    "def maximum(l):\n",
    "    high = l[0]\n",
    "    low = l[0]\n",
    "    for i in range(len(l)):\n",
    "        if l[i]>high:\n",
    "            high = l[i]\n",
    "        elif l[i]<low:\n",
    "            low = l[i]\n",
    "    return high,low\n",
    "\n",
    "print(maximum([5,6,2,1,4,5,8,11,6,5,9,21,65]))\n",
    "    "
   ]
  },
  {
   "cell_type": "markdown",
   "metadata": {},
   "source": [
    "### Write a Python function that takes two lists and returns True if they have at least one common member."
   ]
  },
  {
   "cell_type": "code",
   "execution_count": 18,
   "metadata": {},
   "outputs": [
    {
     "name": "stdout",
     "output_type": "stream",
     "text": [
      "True\n"
     ]
    }
   ],
   "source": [
    "def two(l1,l2):\n",
    "    if len(l1)>len(l2):\n",
    "        for i in range(len(l1)):\n",
    "            for j in range(len(l2)):\n",
    "                if l1[i] == l2[j]:\n",
    "                    return True\n",
    "                else:\n",
    "                    return False\n",
    "    else:\n",
    "        for i in range(len(l2)):\n",
    "            for j in range(len(l1)):\n",
    "                if l2[i] == l1[j]:\n",
    "                    return True\n",
    "                else:\n",
    "                    return False\n",
    "            \n",
    "z = two([1,2,3,4,5,3],[1,8,9,7,5,6,3])\n",
    "print(z)"
   ]
  },
  {
   "cell_type": "markdown",
   "metadata": {},
   "source": [
    "### Write a Python function to calculate the factorial of a number (a non-negative integer). The function accepts the number from the user"
   ]
  },
  {
   "cell_type": "code",
   "execution_count": 24,
   "metadata": {},
   "outputs": [
    {
     "name": "stdout",
     "output_type": "stream",
     "text": [
      "120\n"
     ]
    }
   ],
   "source": [
    "def fact(n):\n",
    "    if n == 0:\n",
    "        return 1\n",
    "    else:\n",
    "        return n*fact(n-1)\n",
    "        \n",
    "print(fact(5))"
   ]
  },
  {
   "cell_type": "markdown",
   "metadata": {},
   "source": [
    "### Write a Python function to check whether a number is in a given range.\n",
    "\n",
    "### The range is from 3 to 11\n"
   ]
  },
  {
   "cell_type": "code",
   "execution_count": 28,
   "metadata": {},
   "outputs": [
    {
     "name": "stdout",
     "output_type": "stream",
     "text": [
      "True\n"
     ]
    }
   ],
   "source": [
    "def ran(n):\n",
    "    if n in range(3,11):\n",
    "        return True\n",
    "    else:\n",
    "        return False\n",
    "        \n",
    "print(ran(5))"
   ]
  },
  {
   "cell_type": "markdown",
   "metadata": {},
   "source": [
    "### Write a  program to create the multiplication table (from 1 to 10) of a number."
   ]
  },
  {
   "cell_type": "code",
   "execution_count": 65,
   "metadata": {},
   "outputs": [
    {
     "name": "stdout",
     "output_type": "stream",
     "text": [
      "5 * 1 = 5\n",
      "5 * 2 = 10\n",
      "5 * 3 = 15\n",
      "5 * 4 = 20\n",
      "5 * 5 = 25\n",
      "5 * 6 = 30\n",
      "5 * 7 = 35\n",
      "5 * 8 = 40\n",
      "5 * 9 = 45\n",
      "5 * 10 = 50\n"
     ]
    }
   ],
   "source": [
    "def mult(n):\n",
    "    count = 1\n",
    "    out = 0\n",
    "    while count <=10:\n",
    "        out = n*count\n",
    "        print(\"{} * {} = {}\".format(n,count,out))\n",
    "        count += 1\n",
    "        \n",
    "\n",
    "mult(5)\n"
   ]
  },
  {
   "cell_type": "markdown",
   "metadata": {},
   "source": [
    "#### LESSER OF TWO EVENS: Write a function that returns the lesser of two given numbers *if* both numbers are even, but returns the greater if one or both numbers are odd\n",
    "    lesser_of_two_evens(2,4) --> 2\n",
    "    lesser_of_two_evens(2,5) --> 5"
   ]
  },
  {
   "cell_type": "code",
   "execution_count": 40,
   "metadata": {},
   "outputs": [
    {
     "name": "stdout",
     "output_type": "stream",
     "text": [
      "5\n",
      "2\n"
     ]
    }
   ],
   "source": [
    "def lesser_of_two_evens(n1,n2):\n",
    "    if n1%2==0 and n2%2==0:\n",
    "        if n1<n2:\n",
    "            return n1\n",
    "        else:\n",
    "            return n2\n",
    "    else:\n",
    "        if n1>n2:\n",
    "            return n1\n",
    "        else: \n",
    "            return n2\n",
    "        \n",
    "print(lesser_of_two_evens(2,5))\n",
    "print(lesser_of_two_evens(2,4))"
   ]
  },
  {
   "cell_type": "markdown",
   "metadata": {},
   "source": [
    "#### ANIMAL CRACKERS: Write a function takes a two-word string and returns True if both words begin with same letter\n",
    "    animal_crackers('Levelheaded Llama') --> True\n",
    "    animal_crackers('Crazy Kangaroo') --> False"
   ]
  },
  {
   "cell_type": "code",
   "execution_count": 42,
   "metadata": {},
   "outputs": [
    {
     "name": "stdout",
     "output_type": "stream",
     "text": [
      "True\n",
      "False\n"
     ]
    }
   ],
   "source": [
    "def animal_crackers(l):\n",
    "    l1 = l.split()\n",
    "    if l1[0][0]== l1[1][0]:\n",
    "        return True\n",
    "    else:\n",
    "        return False\n",
    "    \n",
    "print(animal_crackers('Levelheaded Llama'))\n",
    "print(animal_crackers('Crazy Kangaroo'))"
   ]
  },
  {
   "cell_type": "markdown",
   "metadata": {},
   "source": [
    "#### MAKES TWENTY: Given two integers, return True if the sum of the integers is 20 *or* if one of the integers is 20. If not, return False\n",
    "\n",
    "    makes_twenty(20,10) --> True\n",
    "    makes_twenty(12,8) --> True\n",
    "    makes_twenty(2,3) --> False"
   ]
  },
  {
   "cell_type": "code",
   "execution_count": 44,
   "metadata": {},
   "outputs": [
    {
     "name": "stdout",
     "output_type": "stream",
     "text": [
      "True\n",
      "True\n",
      "False\n"
     ]
    }
   ],
   "source": [
    "def makes_twenty(n1,n2):\n",
    "    if n1+n2==20:\n",
    "        return True\n",
    "    elif n1==20 or n2==20:\n",
    "        return True\n",
    "    else:\n",
    "        return False\n",
    "    \n",
    "    \n",
    "print(makes_twenty(20,10))\n",
    "print(makes_twenty(12,8))\n",
    "print(makes_twenty(2,3))"
   ]
  },
  {
   "cell_type": "markdown",
   "metadata": {},
   "source": [
    "#### ALMOST THERE: Given an integer n, return True if n is within 10 of either 100 or 200\n",
    "\n",
    "    almost_there(90) --> True\n",
    "    almost_there(104) --> True\n",
    "    almost_there(150) --> False\n",
    "    almost_there(209) --> True\n",
    "    \n",
    "NOTE: `abs(num)` returns the absolute value of a number"
   ]
  },
  {
   "cell_type": "code",
   "execution_count": 46,
   "metadata": {},
   "outputs": [
    {
     "name": "stdout",
     "output_type": "stream",
     "text": [
      "True\n",
      "True\n",
      "False\n",
      "True\n"
     ]
    }
   ],
   "source": [
    "def almost_there(n):\n",
    "    if n>=90 and n<=110:\n",
    "        return True\n",
    "    elif n<=210 and n>=190:\n",
    "        return True\n",
    "    else:\n",
    "        return False\n",
    "    \n",
    "    \n",
    "    \n",
    "print(almost_there(90))\n",
    "print(almost_there(104))\n",
    "print(almost_there(150))\n",
    "print(almost_there(209))"
   ]
  },
  {
   "cell_type": "markdown",
   "metadata": {},
   "source": [
    "#### BLACKJACK: Given three integers between 1 and 11, if their sum is less than or equal to 21, return their sum. If their sum exceeds 21 *and* there's an eleven, reduce the total sum by 10. Finally, if the sum  exceeds 21, return 'BUST'\n",
    "    blackjack(5,6,7) --> 18\n",
    "    blackjack(9,9,9) --> 'BUST'\n",
    "    blackjack(9,9,11) --> 19"
   ]
  },
  {
   "cell_type": "code",
   "execution_count": 47,
   "metadata": {},
   "outputs": [
    {
     "name": "stdout",
     "output_type": "stream",
     "text": [
      "18\n",
      "Bust\n",
      "19\n"
     ]
    }
   ],
   "source": [
    "def blackjack(n1,n2,n3):\n",
    "    if n1+n2+n3 <= 21:\n",
    "        return n1+n2+n3\n",
    "    elif n1+n2+n3 >21 and (n1==11 or n2==11 or n3==11) :\n",
    "        return n1+n2+n3-10\n",
    "    else:\n",
    "        return 'Bust'\n",
    "    \n",
    "    \n",
    "print(blackjack(5,6,7))\n",
    "print(blackjack(9,9,9))\n",
    "print(blackjack(9,9,11))"
   ]
  },
  {
   "cell_type": "code",
   "execution_count": null,
   "metadata": {},
   "outputs": [],
   "source": []
  }
 ],
 "metadata": {
  "kernelspec": {
   "display_name": "Python 3",
   "language": "python",
   "name": "python3"
  },
  "language_info": {
   "codemirror_mode": {
    "name": "ipython",
    "version": 3
   },
   "file_extension": ".py",
   "mimetype": "text/x-python",
   "name": "python",
   "nbconvert_exporter": "python",
   "pygments_lexer": "ipython3",
   "version": "3.8.5"
  }
 },
 "nbformat": 4,
 "nbformat_minor": 2
}
